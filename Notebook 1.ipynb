{
    "cells": [
        {
            "cell_type": "markdown",
            "metadata": {},
            "source": "# **My Jupyter Notebook on IBM Watson Studio**"
        },
        {
            "cell_type": "markdown",
            "metadata": {},
            "source": "##### *Jo\u00e3o Victor Lotfi Barrera*"
        },
        {
            "cell_type": "markdown",
            "metadata": {},
            "source": "Currently I'm dedicated to studying data science full-time. My dream is to become a data scientist in New York City."
        },
        {
            "cell_type": "markdown",
            "metadata": {},
            "source": "*I am interested in data science because it fits my personality perfectly. I'm curious and won't settle for less, I want to bring the most value for a company with evidence!*"
        },
        {
            "cell_type": "markdown",
            "metadata": {},
            "source": "<hr style=\"border:0.5px solid black\"> </hr>"
        },
        {
            "cell_type": "markdown",
            "metadata": {},
            "source": "Why don't you search cute cats on: [Google](https://www.google.com \"Google's Homepage\")"
        },
        {
            "cell_type": "markdown",
            "metadata": {},
            "source": "Like this one! (JK that's Github):\n![alt text](https://encrypted-tbn0.gstatic.com/images?q=tbn:ANd9GcQN0Uu0auB-_30X62d-vUYM-jhN4TkqPqgv6A&usqp=CAU \"logo1\")"
        },
        {
            "cell_type": "markdown",
            "metadata": {},
            "source": "<hr style=\"border:0.5px solid black\"> </hr>"
        },
        {
            "cell_type": "markdown",
            "metadata": {},
            "source": "### This can do simple math, 1 + 1 = 2:"
        },
        {
            "cell_type": "code",
            "execution_count": 45,
            "metadata": {},
            "outputs": [
                {
                    "data": {
                        "text/plain": "2"
                    },
                    "execution_count": 45,
                    "metadata": {},
                    "output_type": "execute_result"
                }
            ],
            "source": "1 + 1\n"
        },
        {
            "cell_type": "markdown",
            "metadata": {},
            "source": "### (more) Complex math too!"
        },
        {
            "cell_type": "code",
            "execution_count": 46,
            "metadata": {},
            "outputs": [
                {
                    "data": {
                        "text/plain": "257.8071428571428"
                    },
                    "execution_count": 46,
                    "metadata": {},
                    "output_type": "execute_result"
                }
            ],
            "source": "12031 / (20 * (7 / 3 + 102 % 6))"
        },
        {
            "cell_type": "markdown",
            "metadata": {},
            "source": "<hr style=\"border:0.5px solid black\"> </hr>"
        },
        {
            "cell_type": "markdown",
            "metadata": {},
            "source": "#### As a demonstration, let's make anything that's inside an array look like it's screaming:"
        },
        {
            "cell_type": "code",
            "execution_count": 47,
            "metadata": {},
            "outputs": [],
            "source": "myList = [\"This\", \"is\", \"an\", \"array\", \"of\", \"words.\"]"
        },
        {
            "cell_type": "code",
            "execution_count": 48,
            "metadata": {},
            "outputs": [
                {
                    "name": "stdout",
                    "output_type": "stream",
                    "text": "THIS IS AN ARRAY OF WORDS. "
                }
            ],
            "source": "for word in myList:\n    print(word.upper() + \" \", end= '')"
        },
        {
            "cell_type": "markdown",
            "metadata": {},
            "source": "<hr style=\"border:0.5px solid black\"> </hr>"
        },
        {
            "cell_type": "markdown",
            "metadata": {},
            "source": "### This table shows an important preview of a very important dataset:\n| Grandma | How much she loves me | How much she hates me |           Notes           |\n| ------- | --------------------- | --------------------- | ------------------------- |\n|   Mary  |                    10 |                    10 | She's weird sometimes     |\n|   Jane  |                     5 |                     3 | She's distant but so am I |"
        },
        {
            "cell_type": "markdown",
            "metadata": {},
            "source": "#### The following list describes the tasks that I need to complete:\n* Finish this course\n* Start another course\n* Get a job\n* Finish playing Minecraft Dungeons (very important)"
        }
    ],
    "metadata": {
        "kernelspec": {
            "display_name": "Python 3.8",
            "language": "python",
            "name": "python3"
        },
        "language_info": {
            "codemirror_mode": {
                "name": "ipython",
                "version": 3
            },
            "file_extension": ".py",
            "mimetype": "text/x-python",
            "name": "python",
            "nbconvert_exporter": "python",
            "pygments_lexer": "ipython3",
            "version": "3.8.11"
        }
    },
    "nbformat": 4,
    "nbformat_minor": 1
}